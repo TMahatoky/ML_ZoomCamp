{
 "cells": [
  {
   "cell_type": "code",
   "execution_count": 2,
   "id": "b4f64c2a-66a9-40fb-b179-574e55bab313",
   "metadata": {},
   "outputs": [],
   "source": [
    "import pandas as pd\n",
    "import numpy as np\n",
    "import matplotlib.pyplot as plt\n",
    "import seaborn as sns\n",
    "from sklearn.metrics import mean_squared_error"
   ]
  },
  {
   "cell_type": "code",
   "execution_count": 3,
   "id": "cd056a5c-6a6f-4827-a18a-2e2832ed33c2",
   "metadata": {},
   "outputs": [],
   "source": [
    "df = pd.read_csv(\"housing.csv\")"
   ]
  },
  {
   "cell_type": "code",
   "execution_count": 4,
   "id": "21bc8334-29ab-46f0-b7a4-f3de73fd664e",
   "metadata": {},
   "outputs": [],
   "source": [
    "df = df.drop(columns = \"ocean_proximity\")"
   ]
  },
  {
   "cell_type": "code",
   "execution_count": 5,
   "id": "063de413-d928-4cfc-a687-30126bc30d38",
   "metadata": {},
   "outputs": [
    {
     "name": "stdout",
     "output_type": "stream",
     "text": [
      "<class 'pandas.core.frame.DataFrame'>\n",
      "RangeIndex: 20640 entries, 0 to 20639\n",
      "Data columns (total 9 columns):\n",
      " #   Column              Non-Null Count  Dtype  \n",
      "---  ------              --------------  -----  \n",
      " 0   longitude           20640 non-null  float64\n",
      " 1   latitude            20640 non-null  float64\n",
      " 2   housing_median_age  20640 non-null  float64\n",
      " 3   total_rooms         20640 non-null  float64\n",
      " 4   total_bedrooms      20433 non-null  float64\n",
      " 5   population          20640 non-null  float64\n",
      " 6   households          20640 non-null  float64\n",
      " 7   median_income       20640 non-null  float64\n",
      " 8   median_house_value  20640 non-null  float64\n",
      "dtypes: float64(9)\n",
      "memory usage: 1.4 MB\n"
     ]
    }
   ],
   "source": [
    "df.info()"
   ]
  },
  {
   "cell_type": "code",
   "execution_count": 6,
   "id": "834666be-61a3-4a6a-b83e-49757bb74d27",
   "metadata": {},
   "outputs": [
    {
     "name": "stdout",
     "output_type": "stream",
     "text": [
      "feature with missing values : total_bedrooms\n",
      " no. of missing values : 207\n"
     ]
    }
   ],
   "source": [
    "missing_feat = df.isna().sum()[df.isna().sum()>0]\n",
    "\n",
    "print(f\"feature with missing values : {missing_feat.index[0]}\\n no. of missing values : {missing_feat.iloc[0]}\")\n",
    "\n",
    "#missing_feat = [val for val in df_simp.columns if df_simp.isna().sum()[val] > 0]"
   ]
  },
  {
   "cell_type": "code",
   "execution_count": 7,
   "id": "bbb75fd7-5187-488e-87ca-3a3e88df79e7",
   "metadata": {},
   "outputs": [
    {
     "name": "stdout",
     "output_type": "stream",
     "text": [
      "As shown by the figure, the data does not have a long tail\n"
     ]
    },
    {
     "data": {
      "image/png": "[encoded data removed]",
      "text/plain": [
       "<Figure size 432x288 with 1 Axes>"
      ]
     },
     "metadata": {
      "needs_background": "light"
     },
     "output_type": "display_data"
    }
   ],
   "source": [
    "sns.histplot(df[\"median_house_value\"], bins = 50);\n",
    "plt.xlabel(\"Price\");\n",
    "print(\"As shown by the figure, the data does not have a long tail\")"
   ]
  },
  {
   "cell_type": "code",
   "execution_count": 8,
   "id": "04c22770-24f6-4ac4-bcbc-c2e0f885145d",
   "metadata": {},
   "outputs": [
    {
     "name": "stdout",
     "output_type": "stream",
     "text": [
      "The median for the feature 'population' is : 1166.0\n"
     ]
    }
   ],
   "source": [
    "median_pop = df[\"population\"].median()\n",
    "\n",
    "print(f\"The median for the feature 'population' is : {median_pop}\")\n",
    "#df_simp[\"population\"].describe()[\"50%\"]\n",
    "#df_simp[\"population\"].quantile(0.5)"
   ]
  },
  {
   "cell_type": "code",
   "execution_count": 27,
   "id": "6df71dbd-90e5-4aa7-8960-a36d03c584b6",
   "metadata": {},
   "outputs": [],
   "source": [
    "n = df.shape[0]\n",
    "np.random.seed(42)\n",
    "idx = np.arange(n)\n",
    "np.random.shuffle(idx)\n",
    "df = df.iloc[idx]\n",
    "df.reset_index(inplace = True)"
   ]
  },
  {
   "cell_type": "code",
   "execution_count": 28,
   "id": "eed7b939-c44a-4988-9144-3604122d1fa9",
   "metadata": {},
   "outputs": [],
   "source": [
    "n_train = int(n * 0.6)\n",
    "n_val = int(n * 0.2)  \n",
    "df_train = df.iloc[:n_train]\n",
    "df_val = df.iloc[n_train: n_train + n_val]\n",
    "df_test = df.iloc[n_train + n_val :]"
   ]
  },
  {
   "cell_type": "code",
   "execution_count": 29,
   "id": "18810d09-add4-4c14-85ff-932e7450f873",
   "metadata": {},
   "outputs": [],
   "source": [
    "target = \"median_house_value\"\n",
    "y_train, y_val, y_test = df_train[target], df_val[target], df_test[target]\n",
    "X_train, X_val, X_test = df_train.drop(columns = target), df_val.drop(columns = target), df_test.drop(columns = target) "
   ]
  },
  {
   "cell_type": "code",
   "execution_count": 30,
   "id": "79ea10e3-241e-4571-9a65-0c04d49c19d1",
   "metadata": {},
   "outputs": [],
   "source": [
    "y_train, y_val, y_test = y_train.apply(np.log1p), y_val.apply(np.log1p), y_test.apply(np.log1p)"
   ]
  },
  {
   "cell_type": "code",
   "execution_count": 31,
   "id": "b7ea5111-ae30-4cf5-83b6-864d040dfdb4",
   "metadata": {},
   "outputs": [
    {
     "data": {
      "text/plain": [
       "0.323614763418531"
      ]
     },
     "execution_count": 31,
     "metadata": {},
     "output_type": "execute_result"
    }
   ],
   "source": [
    "#baseline \n",
    "y_train_mean = y_train.mean()\n",
    "y_train_baseline = [y_train_mean] * len(y_train)\n",
    "base_MSE_train = mean_squared_error(y_train, y_train_baseline)\n",
    "base_MSE_train"
   ]
  },
  {
   "cell_type": "code",
   "execution_count": 14,
   "id": "ef00cc87-aa55-4b47-ab3c-b98d8a31e444",
   "metadata": {},
   "outputs": [
    {
     "ename": "NameError",
     "evalue": "name 'LinearRegression' is not defined",
     "output_type": "error",
     "traceback": [
      "\u001b[1;31m---------------------------------------------------------------------------\u001b[0m",
      "\u001b[1;31mNameError\u001b[0m                                 Traceback (most recent call last)",
      "\u001b[1;32m~\\AppData\\Local\\Temp/ipykernel_16656/3993499371.py\u001b[0m in \u001b[0;36m<module>\u001b[1;34m\u001b[0m\n\u001b[0;32m      4\u001b[0m \u001b[1;32mfor\u001b[0m \u001b[0mval\u001b[0m \u001b[1;32min\u001b[0m \u001b[0mfill_options\u001b[0m\u001b[1;33m:\u001b[0m\u001b[1;33m\u001b[0m\u001b[1;33m\u001b[0m\u001b[0m\n\u001b[0;32m      5\u001b[0m     \u001b[0mX_T\u001b[0m \u001b[1;33m=\u001b[0m \u001b[0mX_train\u001b[0m\u001b[1;33m[\u001b[0m\u001b[1;34m\"total_bedrooms\"\u001b[0m\u001b[1;33m]\u001b[0m\u001b[1;33m.\u001b[0m\u001b[0mfillna\u001b[0m\u001b[1;33m(\u001b[0m\u001b[0mval\u001b[0m\u001b[1;33m)\u001b[0m\u001b[1;33m\u001b[0m\u001b[1;33m\u001b[0m\u001b[0m\n\u001b[1;32m----> 6\u001b[1;33m     \u001b[0mmodel\u001b[0m \u001b[1;33m=\u001b[0m \u001b[0mLinearRegression\u001b[0m\u001b[1;33m(\u001b[0m\u001b[1;33m)\u001b[0m\u001b[1;33m.\u001b[0m\u001b[0mfit\u001b[0m\u001b[1;33m(\u001b[0m\u001b[0mX_train\u001b[0m\u001b[1;33m,\u001b[0m \u001b[0my_train\u001b[0m\u001b[1;33m)\u001b[0m\u001b[1;33m\u001b[0m\u001b[1;33m\u001b[0m\u001b[0m\n\u001b[0m\u001b[0;32m      7\u001b[0m     \u001b[0my_pred\u001b[0m \u001b[1;33m=\u001b[0m \u001b[0mmodel\u001b[0m\u001b[1;33m.\u001b[0m\u001b[0mpredict\u001b[0m\u001b[1;33m(\u001b[0m\u001b[0mX_val\u001b[0m\u001b[1;33m)\u001b[0m\u001b[1;33m\u001b[0m\u001b[1;33m\u001b[0m\u001b[0m\n\u001b[0;32m      8\u001b[0m     \u001b[0mMSE\u001b[0m\u001b[1;33m.\u001b[0m\u001b[0mappend\u001b[0m\u001b[1;33m(\u001b[0m\u001b[0mmean_squared_error\u001b[0m\u001b[1;33m(\u001b[0m\u001b[0my_val\u001b[0m\u001b[1;33m,\u001b[0m \u001b[0my_pred\u001b[0m\u001b[1;33m)\u001b[0m\u001b[1;33m)\u001b[0m\u001b[1;33m\u001b[0m\u001b[1;33m\u001b[0m\u001b[0m\n",
      "\u001b[1;31mNameError\u001b[0m: name 'LinearRegression' is not defined"
     ]
    }
   ],
   "source": [
    "MSE = []\n",
    "fill_options = [0, X_train[\"total_bedrooms\"].mean(), X_train[\"total_bedrooms\"].median()]\n",
    "\n",
    "for val in fill_options:\n",
    "    X_T = X_train[\"total_bedrooms\"].fillna(val)\n",
    "    model = LinearRegression().fit(X_train, y_train)\n",
    "    y_pred = model.predict(X_val)\n",
    "    MSE.append(mean_squared_error(y_val, y_pred))\n",
    "MSE"
   ]
  },
  {
   "cell_type": "code",
   "execution_count": 87,
   "id": "9a00ad2a-3047-4543-be30-1e76448ece33",
   "metadata": {},
   "outputs": [],
   "source": [
    "def linear_regression_fit(xi, yi):\n",
    "    w = np.dot(np.dot(np.linalg.inv(np.dot(xi.T, xi)), xi.T), yi) \n",
    "    return w\n",
    "def predict(xi, w):\n",
    "    y_pred = np.dot(xi, w) \n",
    "    return y_pred"
   ]
  },
  {
   "cell_type": "code",
   "execution_count": 84,
   "id": "f04bd817-785f-48a7-a128-e4ab428712bc",
   "metadata": {},
   "outputs": [
    {
     "data": {
      "text/plain": [
       "(12384,)"
      ]
     },
     "execution_count": 84,
     "metadata": {},
     "output_type": "execute_result"
    }
   ],
   "source": [
    "X_temp = X_train.copy()\n",
    "X_temp[\"total_bedrooms\"].fillna(0, inplace = True)\n",
    "#print(f\"orig shape: {X_temp.shape}, transpose shape: {X_temp.T.shape}\")\n",
    "w = np.dot(np.dot(np.linalg.inv(np.dot(X_temp.T, X_temp )), X_temp.T), y_train)\n",
    "y_train.shape"
   ]
  },
  {
   "cell_type": "code",
   "execution_count": 88,
   "id": "5f97fe2b-e27d-4bce-a90d-6d2fa4cf06a9",
   "metadata": {},
   "outputs": [],
   "source": [
    "mean_miss = X_train[\"total_bedrooms\"].mean()\n",
    "median_miss = X_train[\"total_bedrooms\"].median()\n",
    "RMSE = []\n",
    "fill_options = [0, mean_miss, median_miss]\n",
    "for val in fill_options:\n",
    "    X_temp = X_train.copy()\n",
    "    X_temp[\"total_bedrooms\"].fillna(val, inplace = True)\n",
    "    coef = linear_regression_fit(X_temp, y_train)\n",
    "    y_pred = predict(X_val, coef)\n",
    "    RMSE.append(round(((y_pred - y_val)**2).mean(), 2))"
   ]
  },
  {
   "cell_type": "code",
   "execution_count": 89,
   "id": "747ce383-8996-46c9-953c-ac5e5b75e471",
   "metadata": {},
   "outputs": [
    {
     "data": {
      "text/plain": [
       "[0.12, 0.12, 0.12]"
      ]
     },
     "execution_count": 89,
     "metadata": {},
     "output_type": "execute_result"
    }
   ],
   "source": [
    "RMSE"
   ]
  },
  {
   "cell_type": "code",
   "execution_count": null,
   "id": "91f1c291-b2fc-4a56-9d41-49834275e93c",
   "metadata": {},
   "outputs": [],
   "source": []
  }
 ],
 "metadata": {
  "kernelspec": {
   "display_name": "Python 3 (ipykernel)",
   "language": "python",
   "name": "python3"
  },
  "language_info": {
   "codemirror_mode": {
    "name": "ipython",
    "version": 3
   },
   "file_extension": ".py",
   "mimetype": "text/x-python",
   "name": "python",
   "nbconvert_exporter": "python",
   "pygments_lexer": "ipython3",
   "version": "3.9.7"
  }
 },
 "nbformat": 4,
 "nbformat_minor": 5
}
