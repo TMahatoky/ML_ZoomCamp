{
 "cells": [
  {
   "cell_type": "code",
   "execution_count": 1,
   "id": "b4f64c2a-66a9-40fb-b179-574e55bab313",
   "metadata": {},
   "outputs": [],
   "source": [
    "import pandas as pd\n",
    "import numpy as np\n",
    "import matplotlib.pyplot as plt\n",
    "import seaborn as sns\n",
    "from sklearn.metrics import mean_squared_error\n",
    "%matplotlib inline"
   ]
  },
  {
   "cell_type": "code",
   "execution_count": 2,
   "id": "cd056a5c-6a6f-4827-a18a-2e2832ed33c2",
   "metadata": {},
   "outputs": [],
   "source": [
    "df = pd.read_csv(\"housing.csv\")"
   ]
  },
  {
   "cell_type": "code",
   "execution_count": 3,
   "id": "21bc8334-29ab-46f0-b7a4-f3de73fd664e",
   "metadata": {},
   "outputs": [],
   "source": [
    "df = df.drop(columns = \"ocean_proximity\")"
   ]
  },
  {
   "cell_type": "code",
   "execution_count": 4,
   "id": "063de413-d928-4cfc-a687-30126bc30d38",
   "metadata": {},
   "outputs": [
    {
     "name": "stdout",
     "output_type": "stream",
     "text": [
      "<class 'pandas.core.frame.DataFrame'>\n",
      "RangeIndex: 20640 entries, 0 to 20639\n",
      "Data columns (total 9 columns):\n",
      " #   Column              Non-Null Count  Dtype  \n",
      "---  ------              --------------  -----  \n",
      " 0   longitude           20640 non-null  float64\n",
      " 1   latitude            20640 non-null  float64\n",
      " 2   housing_median_age  20640 non-null  float64\n",
      " 3   total_rooms         20640 non-null  float64\n",
      " 4   total_bedrooms      20433 non-null  float64\n",
      " 5   population          20640 non-null  float64\n",
      " 6   households          20640 non-null  float64\n",
      " 7   median_income       20640 non-null  float64\n",
      " 8   median_house_value  20640 non-null  float64\n",
      "dtypes: float64(9)\n",
      "memory usage: 1.4 MB\n"
     ]
    }
   ],
   "source": [
    "df.info()"
   ]
  },
  {
   "cell_type": "code",
   "execution_count": 5,
   "id": "834666be-61a3-4a6a-b83e-49757bb74d27",
   "metadata": {},
   "outputs": [
    {
     "name": "stdout",
     "output_type": "stream",
     "text": [
      "feature with missing values : total_bedrooms\n",
      " no. of missing values : 207\n"
     ]
    }
   ],
   "source": [
    "missing_feat = df.isna().sum()[df.isna().sum()>0]\n",
    "\n",
    "print(f\"feature with missing values : {missing_feat.index[0]}\\n no. of missing values : {missing_feat.iloc[0]}\")\n",
    "\n",
    "#missing_feat = [val for val in df_simp.columns if df_simp.isna().sum()[val] > 0]"
   ]
  },
  {
   "cell_type": "code",
   "execution_count": 6,
   "id": "bbb75fd7-5187-488e-87ca-3a3e88df79e7",
   "metadata": {},
   "outputs": [
    {
     "name": "stdout",
     "output_type": "stream",
     "text": [
      "As shown by the figure, the data does not have a long tail\n"
     ]
    },
    {
     "data": {
      "image/png": "[encoded data removed]",
      "text/plain": [
       "<Figure size 432x288 with 1 Axes>"
      ]
     },
     "metadata": {
      "needs_background": "light"
     },
     "output_type": "display_data"
    }
   ],
   "source": [
    "sns.histplot(df[\"median_house_value\"], bins = 50);\n",
    "plt.xlabel(\"Price\");\n",
    "print(\"As shown by the figure, the data does not have a long tail\")"
   ]
  },
  {
   "cell_type": "code",
   "execution_count": 7,
   "id": "04c22770-24f6-4ac4-bcbc-c2e0f885145d",
   "metadata": {},
   "outputs": [
    {
     "name": "stdout",
     "output_type": "stream",
     "text": [
      "The median for the feature 'population' is : 1166.0\n"
     ]
    }
   ],
   "source": [
    "median_pop = df[\"population\"].median()\n",
    "\n",
    "print(f\"The median for the feature 'population' is : {median_pop}\")\n",
    "#df_simp[\"population\"].describe()[\"50%\"]\n",
    "#df_simp[\"population\"].quantile(0.5)"
   ]
  },
  {
   "cell_type": "code",
   "execution_count": 8,
   "id": "6df71dbd-90e5-4aa7-8960-a36d03c584b6",
   "metadata": {},
   "outputs": [],
   "source": [
    "n = df.shape[0]\n",
    "np.random.seed(42)\n",
    "idx = np.arange(n)\n",
    "np.random.shuffle(idx)\n",
    "df = df.iloc[idx]\n",
    "df.reset_index(drop = True, inplace = True)"
   ]
  },
  {
   "cell_type": "code",
   "execution_count": 11,
   "id": "eed7b939-c44a-4988-9144-3604122d1fa9",
   "metadata": {},
   "outputs": [],
   "source": [
    "n_train = int(n * 0.6)\n",
    "n_val = int(n * 0.2)  \n",
    "df_train = df.iloc[:n_train]\n",
    "df_val = df.iloc[n_train: n_train + n_val].reset_index(drop = True)\n",
    "df_test = df.iloc[n_train + n_val :].reset_index(drop = True)"
   ]
  },
  {
   "cell_type": "code",
   "execution_count": 12,
   "id": "18810d09-add4-4c14-85ff-932e7450f873",
   "metadata": {},
   "outputs": [],
   "source": [
    "target = \"median_house_value\"\n",
    "y_train, y_val, y_test = df_train[target], df_val[target], df_test[target]\n",
    "X_train, X_val, X_test = df_train.drop(columns = target), df_val.drop(columns = target), df_test.drop(columns = target) "
   ]
  },
  {
   "cell_type": "code",
   "execution_count": 13,
   "id": "79ea10e3-241e-4571-9a65-0c04d49c19d1",
   "metadata": {},
   "outputs": [],
   "source": [
    "y_train, y_val, y_test = y_train.apply(np.log1p), y_val.apply(np.log1p), y_test.apply(np.log1p)"
   ]
  },
  {
   "cell_type": "code",
   "execution_count": 14,
   "id": "b7ea5111-ae30-4cf5-83b6-864d040dfdb4",
   "metadata": {},
   "outputs": [
    {
     "data": {
      "text/plain": [
       "0.32178002835041325"
      ]
     },
     "execution_count": 14,
     "metadata": {},
     "output_type": "execute_result"
    }
   ],
   "source": [
    "#baseline \n",
    "y_train_mean = y_train.mean()\n",
    "y_train_baseline = [y_train_mean] * len(y_train)\n",
    "base_MSE_train = mean_squared_error(y_train, y_train_baseline)\n",
    "base_MSE_train"
   ]
  },
  {
   "cell_type": "code",
   "execution_count": 36,
   "id": "9a00ad2a-3047-4543-be30-1e76448ece33",
   "metadata": {},
   "outputs": [],
   "source": [
    "def linear_regression_fit(xi, yi):\n",
    "    X_intercept = pd.DataFrame([1] * len(xi))\n",
    "    X_new = pd.concat([X_intercept, xi], axis = 1) \n",
    "    w = np.dot(np.dot(np.linalg.inv(np.dot(X_new.T, X_new)), X_new.T), yi) \n",
    "    return w\n",
    "def predict(xi, w):\n",
    "    X_intercept = pd.DataFrame([1] * len(xi))\n",
    "    X_new = pd.concat([X_intercept, xi], axis = 1) \n",
    "    y_pred = np.dot(X_new, w) \n",
    "    return y_pred"
   ]
  },
  {
   "cell_type": "code",
   "execution_count": 40,
   "id": "5f97fe2b-e27d-4bce-a90d-6d2fa4cf06a9",
   "metadata": {},
   "outputs": [],
   "source": [
    "mean_miss = X_train[\"total_bedrooms\"].mean()\n",
    "median_miss = X_train[\"total_bedrooms\"].median()\n",
    "RMSE = []\n",
    "pred = []\n",
    "fill_options = [0, mean_miss, median_miss]\n",
    "for val in fill_options:\n",
    "    X_temp = X_train.copy()\n",
    "    X_temp[\"total_bedrooms\"].fillna(val, inplace = True)\n",
    "    coef = linear_regression_fit(X_temp, y_train)\n",
    "    y_pred = predict(X_val, coef)\n",
    "    pred.append(y_pred)\n",
    "    RMSE.append(round(np.sqrt(((y_pred - y_val)**2).mean()), 2))"
   ]
  },
  {
   "cell_type": "code",
   "execution_count": 87,
   "id": "747ce383-8996-46c9-953c-ac5e5b75e471",
   "metadata": {},
   "outputs": [
    {
     "name": "stdout",
     "output_type": "stream",
     "text": [
      "RMSE scores for a linear regression model without regularization\n",
      " fill options being 0, mean and median : \n"
     ]
    },
    {
     "data": {
      "text/plain": [
       "[0.33, 0.33, 0.33]"
      ]
     },
     "execution_count": 87,
     "metadata": {},
     "output_type": "execute_result"
    }
   ],
   "source": [
    "print(\"RMSE scores for a linear regression model without regularization\\n fill options being 0, mean and median : \")\n",
    "RMSE"
   ]
  },
  {
   "cell_type": "code",
   "execution_count": 42,
   "id": "91f1c291-b2fc-4a56-9d41-49834275e93c",
   "metadata": {},
   "outputs": [
    {
     "data": {
      "text/plain": [
       "array([11.4640354 , 12.05943889, 12.65457022, ..., 11.68175656,\n",
       "       12.17471961, 12.24031105])"
      ]
     },
     "execution_count": 42,
     "metadata": {},
     "output_type": "execute_result"
    }
   ],
   "source": [
    "y_pred"
   ]
  },
  {
   "cell_type": "code",
   "execution_count": 46,
   "id": "14b60372-e7b0-4a7d-a35b-e1421a032981",
   "metadata": {},
   "outputs": [
    {
     "data": {
      "text/plain": [
       "<AxesSubplot:xlabel='median_house_value', ylabel='Count'>"
      ]
     },
     "execution_count": 46,
     "metadata": {},
     "output_type": "execute_result"
    },
    {
     "data": {
      "image/png": "[encoded data removed]",
      "text/plain": [
       "<Figure size 432x288 with 1 Axes>"
      ]
     },
     "metadata": {
      "needs_background": "light"
     },
     "output_type": "display_data"
    }
   ],
   "source": [
    "sns.histplot(y_pred, color = \"red\", alpha = 0.5, bins = 50)\n",
    "sns.histplot(y_val, color = \"blue\", alpha = 0.5, bins = 50)"
   ]
  },
  {
   "cell_type": "code",
   "execution_count": 47,
   "id": "9c7d201f-df0e-4e1e-963a-38f76cde3976",
   "metadata": {},
   "outputs": [],
   "source": [
    "X_reg = X_train.copy()"
   ]
  },
  {
   "cell_type": "code",
   "execution_count": 48,
   "id": "d1e0d9d2-2eee-436c-8e75-3be29dda7ce0",
   "metadata": {},
   "outputs": [],
   "source": [
    "X_reg[\"total_bedrooms\"].fillna(0, inplace = True)"
   ]
  },
  {
   "cell_type": "code",
   "execution_count": 62,
   "id": "b710f895-620b-41cb-a2b7-e2317ac2a741",
   "metadata": {},
   "outputs": [],
   "source": [
    "r = [0, 0.000001, 0.001, 0.01, 0.1, 1, 5, 10]\n",
    "score = []\n",
    "for val in r: \n",
    "    X_i = pd.DataFrame([1] * len(X_train))\n",
    "    X_n = pd.concat([X_i, X_reg], axis = 1)\n",
    "    XTX = np.dot(X_n.T, X_n)\n",
    "    ld = val * np.eye(len(XTX))\n",
    "    w_n = np.dot(np.dot(np.linalg.inv(XTX + ld), X_n.T), y_train)\n",
    "    y_pred_n = predict(X_val, w_n)\n",
    "    score.append(round(np.sqrt(((y_pred_n - y_val)**2).mean()), 2))"
   ]
  },
  {
   "cell_type": "code",
   "execution_count": 90,
   "id": "3336aeac-1d72-474d-8948-21587ce68a2c",
   "metadata": {},
   "outputs": [
    {
     "name": "stdout",
     "output_type": "stream",
     "text": [
      "RMSE scores for a regularized linear regression model tuned with r = [0, 1e-06, 0.001, 0.01, 0.1, 1, 5, 10] respectively:\n"
     ]
    },
    {
     "data": {
      "text/plain": [
       "[0.33, 0.33, 0.33, 0.33, 0.33, 0.33, 0.34, 0.34, 0.36]"
      ]
     },
     "execution_count": 90,
     "metadata": {},
     "output_type": "execute_result"
    }
   ],
   "source": [
    "print(f\"RMSE scores for a regularized linear regression model tuned with r = {r} respectively:\")\n",
    "score"
   ]
  },
  {
   "cell_type": "code",
   "execution_count": 77,
   "id": "04012110-26dd-4984-a2ba-526dacad9521",
   "metadata": {},
   "outputs": [],
   "source": [
    "n = df.shape[0]\n",
    "seed = [0, 1, 2, 3, 4, 5, 6, 7, 8, 9]\n",
    "metrics_score = []\n",
    "for val in seed:\n",
    "    np.random.seed(val)\n",
    "    idx = np.arange(n)\n",
    "    np.random.shuffle(idx)\n",
    "    df = df.iloc[idx]\n",
    "    df.reset_index(drop = True, inplace = True)\n",
    "    n_train = int(n * 0.6)\n",
    "    n_val = int(n * 0.2)  \n",
    "    df_train = df.iloc[:n_train]\n",
    "    df_val = df.iloc[n_train: n_train + n_val].reset_index(drop = True)\n",
    "    df_test = df.iloc[n_train + n_val :].reset_index(drop = True)\n",
    "    target = \"median_house_value\"\n",
    "    y_train, y_val, y_test = df_train[target], df_val[target], df_test[target]\n",
    "    X_train, X_val, X_test = df_train.drop(columns = target), df_val.drop(columns = target), df_test.drop(columns = target) \n",
    "    y_train, y_val, y_test = y_train.apply(np.log1p), y_val.apply(np.log1p), y_test.apply(np.log1p)\n",
    "    X_temp = X_train.copy()\n",
    "    X_temp[\"total_bedrooms\"].fillna(0, inplace = True)\n",
    "    coef = linear_regression_fit(X_temp, y_train)\n",
    "    y_pred = predict(X_val, coef)\n",
    "    metrics_score.append(round(np.sqrt(((y_pred - y_val)**2).mean()), 2))"
   ]
  },
  {
   "cell_type": "code",
   "execution_count": 96,
   "id": "574a9b9d-06de-4b53-9102-487c5b9d575f",
   "metadata": {},
   "outputs": [
    {
     "name": "stdout",
     "output_type": "stream",
     "text": [
      "standard deviation of RMSE for a linear regression model without regularization for the following seeds [0, 1, 2, 3, 4, 5, 6, 7, 8, 9]:\n",
      "0.005\n",
      "Our model is stable\n"
     ]
    }
   ],
   "source": [
    "deviation = round(np.std(metrics_score), 3)\n",
    "print(f\"standard deviation of RMSE for a linear regression model without regularization for the following seeds {seed}:\")\n",
    "print(deviation)\n",
    "print(\"Our model is stable\")"
   ]
  },
  {
   "cell_type": "code",
   "execution_count": 85,
   "id": "2146f0fb-38f4-4390-a008-3930e8d97c46",
   "metadata": {},
   "outputs": [],
   "source": [
    "final_RMSE = 0\n",
    "n = df.shape[0]\n",
    "np.random.seed(9)\n",
    "idx = np.arange(n)\n",
    "np.random.shuffle(idx)\n",
    "df = df.iloc[idx]\n",
    "df.reset_index(drop = True, inplace = True)\n",
    "n_train = int(n * 0.6)\n",
    "n_val = int(n * 0.2)  \n",
    "df_train = df.iloc[:n_train]\n",
    "df_val = df.iloc[n_train: n_train + n_val].reset_index(drop = True)\n",
    "df_test = df.iloc[n_train + n_val :].reset_index(drop = True)\n",
    "target = \"median_house_value\"\n",
    "y_train, y_val, y_test = df_train[target], df_val[target], df_test[target]\n",
    "X_train, X_val, X_test = df_train.drop(columns = target), df_val.drop(columns = target), df_test.drop(columns = target) \n",
    "y_train, y_val, y_test = y_train.apply(np.log1p), y_val.apply(np.log1p), y_test.apply(np.log1p)\n",
    "X_temp = X_train.copy()\n",
    "X_full, y_full = pd.concat([X_temp, X_val], axis = 0, ignore_index = True), pd.concat([y_train, y_val], axis = 0, ignore_index = True)\n",
    "X_full[\"total_bedrooms\"].fillna(0, inplace = True)\n",
    "X_i = pd.DataFrame([1] * len(X_full))\n",
    "X_n = pd.concat([X_i, X_full], axis = 1)\n",
    "XTX = np.dot(X_n.T, X_n)\n",
    "ld = val * np.eye(len(XTX))\n",
    "w_n = np.dot(np.dot(np.linalg.inv(XTX + ld), X_n.T), y_full)\n",
    "y_pred_n = predict(X_test, w_n)\n",
    "final_RMSE = round(np.sqrt(((y_pred_n - y_test)**2).mean()), 2)"
   ]
  },
  {
   "cell_type": "code",
   "execution_count": 98,
   "id": "b80fb1ce-441e-4ff8-9b38-4c4fbffcec91",
   "metadata": {},
   "outputs": [
    {
     "name": "stdout",
     "output_type": "stream",
     "text": [
      "RMSE on the test dataset for regularized linear regression model with seed being 9 and r = 0.001:\n"
     ]
    },
    {
     "data": {
      "text/plain": [
       "0.35"
      ]
     },
     "execution_count": 98,
     "metadata": {},
     "output_type": "execute_result"
    }
   ],
   "source": [
    "print(\"RMSE on the test dataset for regularized linear regression model with seed being 9 and r = 0.001:\")\n",
    "final_RMSE"
   ]
  }
 ],
 "metadata": {
  "kernelspec": {
   "display_name": "Python 3 (ipykernel)",
   "language": "python",
   "name": "python3"
  },
  "language_info": {
   "codemirror_mode": {
    "name": "ipython",
    "version": 3
   },
   "file_extension": ".py",
   "mimetype": "text/x-python",
   "name": "python",
   "nbconvert_exporter": "python",
   "pygments_lexer": "ipython3",
   "version": "3.9.7"
  }
 },
 "nbformat": 4,
 "nbformat_minor": 5
}
