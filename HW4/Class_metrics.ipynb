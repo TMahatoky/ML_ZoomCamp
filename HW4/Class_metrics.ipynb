{
 "cells": [
  {
   "cell_type": "code",
   "execution_count": 50,
   "id": "dff3d543-8abf-4853-af79-7ceb2b6410eb",
   "metadata": {},
   "outputs": [],
   "source": [
    "import pandas as pd \n",
    "from sklearn.model_selection import train_test_split\n",
    "from sklearn.metrics import auc, roc_curve, roc_auc_score"
   ]
  },
  {
   "cell_type": "code",
   "execution_count": 2,
   "id": "405c88b8-e241-41d2-9a7e-63fd997782f7",
   "metadata": {},
   "outputs": [],
   "source": [
    "df = pd.read_csv(\"AER_credit_card_data.csv\")"
   ]
  },
  {
   "cell_type": "code",
   "execution_count": 6,
   "id": "0b75e31a-b804-49ab-adf5-d8680c3ccbd2",
   "metadata": {},
   "outputs": [
    {
     "name": "stdout",
     "output_type": "stream",
     "text": [
      "<class 'pandas.core.frame.DataFrame'>\n",
      "RangeIndex: 1319 entries, 0 to 1318\n",
      "Data columns (total 12 columns):\n",
      " #   Column       Non-Null Count  Dtype  \n",
      "---  ------       --------------  -----  \n",
      " 0   card         1319 non-null   object \n",
      " 1   reports      1319 non-null   int64  \n",
      " 2   age          1319 non-null   float64\n",
      " 3   income       1319 non-null   float64\n",
      " 4   share        1319 non-null   float64\n",
      " 5   expenditure  1319 non-null   float64\n",
      " 6   owner        1319 non-null   object \n",
      " 7   selfemp      1319 non-null   object \n",
      " 8   dependents   1319 non-null   int64  \n",
      " 9   months       1319 non-null   int64  \n",
      " 10  majorcards   1319 non-null   int64  \n",
      " 11  active       1319 non-null   int64  \n",
      "dtypes: float64(4), int64(5), object(3)\n",
      "memory usage: 123.8+ KB\n"
     ]
    }
   ],
   "source": [
    "df.info()"
   ]
  },
  {
   "cell_type": "code",
   "execution_count": 12,
   "id": "c04a5921-9317-4dfa-b129-ce718350fb3e",
   "metadata": {},
   "outputs": [],
   "source": [
    "categorical = [val for val in df.columns if df[val].dtype == \"object\"]"
   ]
  },
  {
   "cell_type": "code",
   "execution_count": 13,
   "id": "2c66bee1-fa97-4070-a802-5880d5f88def",
   "metadata": {},
   "outputs": [
    {
     "data": {
      "text/plain": [
       "['card', 'owner', 'selfemp']"
      ]
     },
     "execution_count": 13,
     "metadata": {},
     "output_type": "execute_result"
    }
   ],
   "source": [
    "categorical"
   ]
  },
  {
   "cell_type": "code",
   "execution_count": 14,
   "id": "b8a95b40-8cc3-4e32-a839-aff7e30a10d6",
   "metadata": {},
   "outputs": [],
   "source": [
    "numerical = [val for val in df.columns if df[val].dtype != \"object\"]"
   ]
  },
  {
   "cell_type": "code",
   "execution_count": 15,
   "id": "cb03c621-3163-4bf5-9fe4-7fca4631adce",
   "metadata": {},
   "outputs": [
    {
     "data": {
      "text/plain": [
       "['reports',\n",
       " 'age',\n",
       " 'income',\n",
       " 'share',\n",
       " 'expenditure',\n",
       " 'dependents',\n",
       " 'months',\n",
       " 'majorcards',\n",
       " 'active']"
      ]
     },
     "execution_count": 15,
     "metadata": {},
     "output_type": "execute_result"
    }
   ],
   "source": [
    "numerical"
   ]
  },
  {
   "cell_type": "code",
   "execution_count": 22,
   "id": "166d6f43-dff4-4f50-b2a7-14d2cfd5e045",
   "metadata": {},
   "outputs": [],
   "source": [
    "df[\"card\"] = df[\"card\"].map(lambda x: 1 if x == \"yes\" else 0)"
   ]
  },
  {
   "cell_type": "code",
   "execution_count": 26,
   "id": "52a57edf-cf97-43c7-817d-753bbffd92da",
   "metadata": {},
   "outputs": [],
   "source": [
    "y = df[\"card\"]\n",
    "X = df.drop(columns = \"card\")"
   ]
  },
  {
   "cell_type": "code",
   "execution_count": 27,
   "id": "ade10aa1-7600-4498-9408-1df8f95b8059",
   "metadata": {},
   "outputs": [],
   "source": [
    "X_train, X_test, y_train, y_test = train_test_split(X, y, test_size = 0.2, random_state = 1)"
   ]
  },
  {
   "cell_type": "code",
   "execution_count": 28,
   "id": "01c362dc-6489-4640-837c-49a57e410b68",
   "metadata": {},
   "outputs": [],
   "source": [
    "X_train, X_val, y_train, y_val = train_test_split(X_train, y_train, test_size = 0.2, random_state = 1)"
   ]
  },
  {
   "cell_type": "code",
   "execution_count": 52,
   "id": "2dda8413-36ae-4bf4-87c1-5c05ceefb276",
   "metadata": {},
   "outputs": [],
   "source": [
    "scores = [auc(X_train[val].sort_values(), y_train) for val in numerical]"
   ]
  },
  {
   "cell_type": "code",
   "execution_count": 53,
   "id": "702ade8e-a365-442e-8dff-11a24183c2b2",
   "metadata": {},
   "outputs": [
    {
     "data": {
      "text/plain": [
       "[10.0,\n",
       " 67.37496664999998,\n",
       " 8.917100000000001,\n",
       " 0.6865924032500004,\n",
       " 1511.7489965000002,\n",
       " 3.5,\n",
       " 350.0,\n",
       " 1.0,\n",
       " 33.0]"
      ]
     },
     "execution_count": 53,
     "metadata": {},
     "output_type": "execute_result"
    }
   ],
   "source": [
    "scores"
   ]
  },
  {
   "cell_type": "code",
   "execution_count": 79,
   "id": "cf678ea3-48b2-4c1c-a4ff-61c0d1d0eec8",
   "metadata": {},
   "outputs": [],
   "source": [
    "united = zip(numerical, scores)"
   ]
  },
  {
   "cell_type": "code",
   "execution_count": 80,
   "id": "0d72752b-e2dc-4bb6-a188-371034487e5a",
   "metadata": {},
   "outputs": [],
   "source": [
    "united = list(united)"
   ]
  },
  {
   "cell_type": "code",
   "execution_count": 81,
   "id": "59505cb6-f773-4642-9391-2adb230612c2",
   "metadata": {},
   "outputs": [
    {
     "data": {
      "text/plain": [
       "[('reports', 10.0),\n",
       " ('age', 67.37496664999998),\n",
       " ('income', 8.917100000000001),\n",
       " ('share', 0.6865924032500004),\n",
       " ('expenditure', 1511.7489965000002),\n",
       " ('dependents', 3.5),\n",
       " ('months', 350.0),\n",
       " ('majorcards', 1.0),\n",
       " ('active', 33.0)]"
      ]
     },
     "execution_count": 81,
     "metadata": {},
     "output_type": "execute_result"
    }
   ],
   "source": [
    "united"
   ]
  },
  {
   "cell_type": "code",
   "execution_count": 86,
   "id": "31b2ffe8-9546-4643-ae5a-95205199ce38",
   "metadata": {},
   "outputs": [
    {
     "data": {
      "text/plain": [
       "[('reports', 10.0),\n",
       " ('share', 0.6865924032500004),\n",
       " ('dependents', 3.5),\n",
       " ('active', 33.0)]"
      ]
     },
     "execution_count": 86,
     "metadata": {},
     "output_type": "execute_result"
    }
   ],
   "source": [
    "[(c, v) for (c, v) in united if c in [\"reports\", \"dependents\", \"active\", \"share\"]]"
   ]
  },
  {
   "cell_type": "code",
   "execution_count": null,
   "id": "aaea0f58-eff5-47fd-815c-95c2ccd0e100",
   "metadata": {},
   "outputs": [],
   "source": [
    "columns = [\"reports\", \"age\", \"income\", \"share\", \"expenditure\", \"dependents\"]"
   ]
  }
 ],
 "metadata": {
  "kernelspec": {
   "display_name": "Python 3 (ipykernel)",
   "language": "python",
   "name": "python3"
  },
  "language_info": {
   "codemirror_mode": {
    "name": "ipython",
    "version": 3
   },
   "file_extension": ".py",
   "mimetype": "text/x-python",
   "name": "python",
   "nbconvert_exporter": "python",
   "pygments_lexer": "ipython3",
   "version": "3.9.7"
  }
 },
 "nbformat": 4,
 "nbformat_minor": 5
}
